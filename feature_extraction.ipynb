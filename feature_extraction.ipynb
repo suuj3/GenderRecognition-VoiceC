{
 "cells": [
  {
   "cell_type": "code",
   "execution_count": 3,
   "metadata": {},
   "outputs": [],
   "source": [
    "import os\n",
    "import librosa\n",
    "import pandas as pd\n",
    "import numpy as np\n",
    "\n",
    "def extract_features(file_path):\n",
    "    y, sr = librosa.load(file_path)\n",
    "    \n",
    "    mfccs = librosa.feature.mfcc(y=y, sr=sr, n_mfcc=13)\n",
    "    spectral_centroid = librosa.feature.spectral_centroid(y=y, sr=sr)\n",
    "    spectral_bandwidth = librosa.feature.spectral_bandwidth(y=y, sr=sr)\n",
    "    spectral_rolloff = librosa.feature.spectral_rolloff(y=y, sr=sr)\n",
    "    zero_crossing_rate = librosa.feature.zero_crossing_rate(y)\n",
    "    \n",
    "    features = np.concatenate([\n",
    "        np.mean(mfccs, axis=1),\n",
    "        [np.mean(spectral_centroid)],\n",
    "        [np.mean(spectral_bandwidth)],\n",
    "        [np.mean(spectral_rolloff)],\n",
    "        [np.mean(zero_crossing_rate)]\n",
    "    ])\n",
    "    \n",
    "    return features\n",
    "\n",
    "def process_folder(folder_path, label):\n",
    "    features_list = []\n",
    "    for file in os.listdir(folder_path):\n",
    "        if file.endswith('.wav'):\n",
    "            file_path = os.path.join(folder_path, file)\n",
    "            features = extract_features(file_path)\n",
    "            features_list.append(np.concatenate([[label], features]))\n",
    "    return features_list\n",
    "\n",
    "dataset_path = 'dataset'\n",
    "\n",
    "male_features = process_folder(os.path.join(dataset_path, 'males'), 'male')\n",
    "female_features = process_folder(os.path.join(dataset_path, 'females'), 'female')\n",
    "\n",
    "all_features = male_features + female_features\n",
    "\n",
    "columns = ['label'] + [\n",
    "    f'mfcc_{i+1}' for i in range(13)\n",
    "] + [\n",
    "    'spectral_centroid',\n",
    "    'spectral_bandwidth',\n",
    "    'spectral_rolloff',\n",
    "    'zero_crossing_rate'\n",
    "]\n",
    "\n",
    "df = pd.DataFrame(all_features, columns=columns)\n",
    "\n",
    "df.to_csv('extracted.csv', index=False)"
   ]
  },
  {
   "cell_type": "code",
   "execution_count": null,
   "metadata": {},
   "outputs": [],
   "source": []
  }
 ],
 "metadata": {
  "kernelspec": {
   "display_name": "Python 3",
   "language": "python",
   "name": "python3"
  },
  "language_info": {
   "codemirror_mode": {
    "name": "ipython",
    "version": 3
   },
   "file_extension": ".py",
   "mimetype": "text/x-python",
   "name": "python",
   "nbconvert_exporter": "python",
   "pygments_lexer": "ipython3",
   "version": "3.12.3"
  }
 },
 "nbformat": 4,
 "nbformat_minor": 2
}
